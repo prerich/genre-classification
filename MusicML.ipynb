{
 "cells": [
  {
   "cell_type": "code",
   "execution_count": 9,
   "id": "ef272539",
   "metadata": {
    "scrolled": false
   },
   "outputs": [
    {
     "name": "stdout",
     "output_type": "stream",
     "text": [
      "genres:  ['electric', 'pop', 'rock', 'dance', 'folk', 'classical', 'traditional', 'jazz', 'metal', 'dj', 'latin', 'country']\n"
     ]
    },
    {
     "data": {
      "image/png": "[encoded data removed]",
      "text/plain": [
       "<Figure size 640x480 with 1 Axes>"
      ]
     },
     "metadata": {},
     "output_type": "display_data"
    }
   ],
   "source": [
    "import pandas as pd\n",
    "from sklearn.preprocessing import MultiLabelBinarizer\n",
    "from sklearn.model_selection import train_test_split\n",
    "from sklearn.feature_extraction.text import CountVectorizer, TfidfVectorizer\n",
    "from sklearn.multiclass import OneVsRestClassifier\n",
    "from sklearn.pipeline import Pipeline\n",
    "from sklearn.linear_model import LogisticRegression\n",
    "from sklearn.metrics import accuracy_score, classification_report\n",
    "\n",
    "import matplotlib.pyplot as plt\n",
    "\n",
    "\n",
    "# https://www.youtube.com/watch?v=7eh4d6sabA0&t\n",
    "music_data = pd.read_csv(\"musiccaps-public.csv\")\n",
    "music_data = music_data[['aspect_list', 'caption']]\n",
    "\n",
    "# clean data\n",
    "words_to_remove_caption= ['the', 'a', 'this', 'song', 'features','to', 'of', 'could', 'be' \n",
    "                          'feature','there', 'is', 'recording', 'it', 'low', 'quality', 'an', \n",
    "                          'as', 'in', 'playing', 'played', 'audio', 'contains', 'that', 'and',\n",
    "                          'later', 'has', 'or', 'she', 'has', 'which', 'here', 'also', 'for'\n",
    "                          'we', 'have', 'i', 'with', 'at', 'can', 'be', 'by', 'such','use'\n",
    "                          'on', 'are', 'using', 'where', 'but', 'sounds', 'into', 'then', 'me',\n",
    "                          'you']\n",
    "\n",
    "\n",
    "words_to_remove_aspect= ['poor', 'recording', 'poor', 'music', 'on', 'to', 'hi', 'no', \n",
    "                         'the', 'and', 'of', 'song', 'female', 'voice', 'male']\n",
    "\n",
    "genres = ['electric', 'pop', 'rock', 'dance', 'folk', 'classical', 'traditional', 'jazz',\n",
    "          'metal', 'dj', 'latin', 'country']\n",
    "\n",
    "\n",
    "print(\"genres: \", genres)\n",
    "#cleaning out captions\n",
    "def clean_caption(caption):\n",
    "    caption = caption.lower().replace('.', '').replace(',', '').replace(',', '').strip()\n",
    "    caption = ' '.join([word for word in caption.split() if word.lower() not in words_to_remove_caption])\n",
    "    return caption\n",
    "\n",
    "\n",
    "def clean_aspect(aspect):\n",
    "    aspect = aspect.lower().replace('[', '').replace(']', '').replace(\"'\", '').replace(',', '')\n",
    "    aspect = aspect.replace('low quality', '').replace(',', '').strip()\n",
    "    aspect_list = list(set([word for word in aspect.split() if word.lower() in genres]))\n",
    "    return aspect_list\n",
    "\n",
    "\n",
    "def valid_caption(caption):\n",
    "    return any(genre in caption.lower() for genre in genres)\n",
    "\n",
    "def valid_aspect(aspect):\n",
    "    return len(aspect) > 0\n",
    "\n",
    "music_data['caption'] = music_data['caption'].apply(clean_caption)\n",
    "music_data['aspect_list'] = music_data['aspect_list'].apply(clean_aspect)\n",
    "\n",
    "\n",
    "# Flatten list of aspect labels\n",
    "all_labels = [label for label_list in music_data['aspect_list'] for label in label_list]\n",
    "\n",
    "# Get frequency of each label\n",
    "label_freq = {}\n",
    "for label in all_labels:\n",
    "    if label in label_freq:\n",
    "        label_freq[label] += 1\n",
    "    else:\n",
    "        label_freq[label] = 1\n",
    "\n",
    "# Sort labels by frequency and get top 100\n",
    "top_labels = sorted(label_freq.items(), key=lambda x: x[1], reverse=True)[:100]\n",
    "top_labels = dict(top_labels)\n",
    "\n",
    "# Plot bar graph of genre label frequency\n",
    "plt.bar(top_labels.keys(), top_labels.values())\n",
    "plt.xticks(rotation=90)\n",
    "plt.show()\n",
    "\n",
    "#removes rows with now empty labels because they dont have any genre\n",
    "music_data = music_data[music_data['aspect_list'].apply(valid_aspect)]\n",
    "\n",
    "#remove captions dont have genre listed\n",
    "music_data = music_data[music_data['caption'].apply(valid_caption)]\n",
    "\n",
    "\n",
    "#defining my input and output\n",
    "x = music_data['caption']\n",
    "y = music_data['aspect_list']\n",
    "\n",
    "# multiLabelBinarizer converts aspect_list to binary labels\n",
    "#find if the labels are present or not uses values of 0 and 1\n",
    "mlb = MultiLabelBinarizer(classes=genres)\n",
    "\n",
    "#transforms it to a binary matrix\n",
    "y = mlb.fit_transform(y)\n",
    "\n",
    "\n",
    "\n"
   ]
  },
  {
   "cell_type": "code",
   "execution_count": 49,
   "id": "f05c8be1",
   "metadata": {},
   "outputs": [
    {
     "name": "stdout",
     "output_type": "stream",
     "text": [
      "score: 0.7008928571428571\n",
      "********************************\n",
      "score: 0.7120535714285714\n",
      "********************************\n",
      "score: 0.6830357142857143\n",
      "********************************\n",
      "score: 0.6450892857142857\n",
      "********************************\n",
      "score: 0.6919642857142857\n",
      "********************************\n",
      "score: 0.7321428571428571\n",
      "********************************\n",
      "score: 0.7209821428571429\n",
      "********************************\n",
      "score: 0.7209821428571429\n",
      "********************************\n",
      "246 ms ± 1.97 ms per loop (mean ± std. dev. of 7 runs, 1 loop each)\n"
     ]
    }
   ],
   "source": [
    "%%timeit\n",
    "\n",
    "x_train, x_test, y_train, y_test = train_test_split(x, y, test_size=0.20)\n",
    "\n",
    "\n",
    "#https://towardsdatascience.com/multi-label-text-classification-with-scikit-learn-30714b7819c5\n",
    "#this article help me design the model\n",
    "model = Pipeline([\n",
    "                ('vect', CountVectorizer(stop_words=None)),\n",
    "                ('clf', OneVsRestClassifier(LogisticRegression(solver='lbfgs')))])\n",
    "\n",
    "# fit the pipeline on the training data\n",
    "model.fit(x_train, y_train)\n",
    "\n",
    "# predict on the test data\n",
    "pred = model.predict(x_test)\n",
    "\n",
    "# calculte accuracy\n",
    "accuracy = accuracy_score(y_test, pred)\n",
    "print(\"score:\", accuracy)\n",
    "#print(classification_report(y_test, pred, target_names=genres))\n",
    "print(\"********************************\")"
   ]
  },
  {
   "cell_type": "code",
   "execution_count": null,
   "id": "32bbfe6a",
   "metadata": {},
   "outputs": [],
   "source": []
  }
 ],
 "metadata": {
  "kernelspec": {
   "display_name": "Python 3 (ipykernel)",
   "language": "python",
   "name": "python3"
  },
  "language_info": {
   "codemirror_mode": {
    "name": "ipython",
    "version": 3
   },
   "file_extension": ".py",
   "mimetype": "text/x-python",
   "name": "python",
   "nbconvert_exporter": "python",
   "pygments_lexer": "ipython3",
   "version": "3.10.9"
  }
 },
 "nbformat": 4,
 "nbformat_minor": 5
}
